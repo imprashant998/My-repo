{
 "cells": [
  {
   "cell_type": "markdown",
   "id": "bb0bcc48",
   "metadata": {},
   "source": [
    "**Create a node**"
   ]
  },
  {
   "cell_type": "code",
   "execution_count": 199,
   "id": "beb205e6",
   "metadata": {},
   "outputs": [
    {
     "name": "stdout",
     "output_type": "stream",
     "text": [
      "first.data = 10 \n",
      " <__main__.Node object at 0x7f3c98c393a0>\n",
      "second.data = 10 \n",
      " <__main__.Node object at 0x7f3c98c39cd0>\n",
      "first is second ??  False\n"
     ]
    }
   ],
   "source": [
    "class Node:\n",
    "    #constructor\n",
    "    def __init__(self,data):\n",
    "        self.data = data\n",
    "        self.next = None\n",
    "first = Node(10)\n",
    "second = Node(10)\n",
    "print(\"first.data =\",first.data,'\\n',first)\n",
    "print(\"second.data =\",second.data,'\\n',second)\n",
    "print(\"first is second ?? \",first is second)"
   ]
  },
  {
   "cell_type": "markdown",
   "id": "b7be8f2b",
   "metadata": {},
   "source": [
    "**Linked is not not a predefined datatype, so we always begin with scratch**"
   ]
  },
  {
   "cell_type": "markdown",
   "id": "6d2dd829",
   "metadata": {},
   "source": [
    "**Inserting elements to a list**"
   ]
  },
  {
   "cell_type": "code",
   "execution_count": 200,
   "id": "04c40bbb",
   "metadata": {},
   "outputs": [],
   "source": [
    "class linkedList:\n",
    "    def __init__(self):\n",
    "        self.head = None\n",
    "    def insert_at_head(self,ele):\n",
    "        newNode = Node(ele)\n",
    "        # if list is empty before insertion\n",
    "        if self.head is None:\n",
    "            self.head = newNode\n",
    "            return\n",
    "        newNode.next = self.head\n",
    "        self.head = newNode\n",
    "        return"
   ]
  },
  {
   "cell_type": "code",
   "execution_count": 201,
   "id": "7b24112f",
   "metadata": {},
   "outputs": [
    {
     "name": "stdout",
     "output_type": "stream",
     "text": [
      "None\n"
     ]
    }
   ],
   "source": [
    "l = linkedList()\n",
    "print(l.head)"
   ]
  },
  {
   "cell_type": "code",
   "execution_count": 202,
   "id": "8462f577",
   "metadata": {},
   "outputs": [
    {
     "name": "stdout",
     "output_type": "stream",
     "text": [
      "A\n"
     ]
    }
   ],
   "source": [
    "l.insert_at_head(\"A\")\n",
    "print(l.head.data)"
   ]
  },
  {
   "cell_type": "code",
   "execution_count": 203,
   "id": "31b63ba8",
   "metadata": {},
   "outputs": [
    {
     "name": "stdout",
     "output_type": "stream",
     "text": [
      "E\n"
     ]
    }
   ],
   "source": [
    "l.insert_at_head(\"E\")\n",
    "print(l.head.data)"
   ]
  },
  {
   "cell_type": "markdown",
   "id": "22752f3d",
   "metadata": {},
   "source": [
    "**How to display the complete linked list and not just the head**"
   ]
  },
  {
   "cell_type": "code",
   "execution_count": 204,
   "id": "38d7abeb",
   "metadata": {},
   "outputs": [],
   "source": [
    "# this way we can split class defination into multiple cells\n",
    "def display(self):\n",
    "    current = self.head\n",
    "    while current is not None:\n",
    "        print(current.data,\" \",end= \"---> \")\n",
    "        current = current.next\n",
    "    return\n",
    "linkedList.display = display\n",
    "    "
   ]
  },
  {
   "cell_type": "code",
   "execution_count": 205,
   "id": "0fa6302d",
   "metadata": {},
   "outputs": [
    {
     "name": "stdout",
     "output_type": "stream",
     "text": [
      "E  ---> A  ---> "
     ]
    }
   ],
   "source": [
    "l.display()"
   ]
  },
  {
   "cell_type": "markdown",
   "id": "c72492c4",
   "metadata": {},
   "source": [
    "**To insert at end of the linked list**"
   ]
  },
  {
   "cell_type": "code",
   "execution_count": 206,
   "id": "73388736",
   "metadata": {},
   "outputs": [],
   "source": [
    "def insert_at_tail(self,ele):\n",
    "    newNode = Node(ele)\n",
    "    if self.head is None:\n",
    "        self.head = newNode\n",
    "        return\n",
    "    current = self.head\n",
    "    while current.next is not None:\n",
    "        current = current.next\n",
    "    # at the end of while loop current will point to the last node of linked list\n",
    "    current.next = newNode\n",
    "    newNode.next = None\n",
    "    return    \n",
    "linkedList.insert_at_tail = insert_at_tail"
   ]
  },
  {
   "cell_type": "code",
   "execution_count": 207,
   "id": "72039ad0",
   "metadata": {},
   "outputs": [],
   "source": [
    "l.insert_at_tail(22)"
   ]
  },
  {
   "cell_type": "code",
   "execution_count": 208,
   "id": "9c321019",
   "metadata": {},
   "outputs": [
    {
     "name": "stdout",
     "output_type": "stream",
     "text": [
      "E  ---> A  ---> 22  ---> "
     ]
    }
   ],
   "source": [
    "l.display()"
   ]
  },
  {
   "cell_type": "code",
   "execution_count": 209,
   "id": "59c40c41",
   "metadata": {},
   "outputs": [],
   "source": [
    "l.insert_at_tail('I')"
   ]
  },
  {
   "cell_type": "code",
   "execution_count": 210,
   "id": "e401a215",
   "metadata": {},
   "outputs": [
    {
     "name": "stdout",
     "output_type": "stream",
     "text": [
      "E  ---> A  ---> 22  ---> I  ---> "
     ]
    }
   ],
   "source": [
    "l.display()"
   ]
  },
  {
   "cell_type": "code",
   "execution_count": 211,
   "id": "f73b20f4",
   "metadata": {},
   "outputs": [],
   "source": [
    "def insert_at_pos(self,pos,ele):\n",
    "    if pos==0:\n",
    "        self.insert_at_head(ele)\n",
    "        return\n",
    "    current = self.head\n",
    "    current_pos = 0\n",
    "    while current_pos != pos:\n",
    "        temp = current\n",
    "        current = current.next\n",
    "        current_pos +=1\n",
    "        if current is None:\n",
    "            return \"Invalid position argument\" \n",
    "    # at the end of while loop temp, current will be pointing to the required node\n",
    "    newNode = Node(ele)\n",
    "    temp.next = newNode\n",
    "    newNode.next = current\n",
    "    return \n",
    "linkedList.insert_at_pos = insert_at_pos   \n",
    "    "
   ]
  },
  {
   "cell_type": "code",
   "execution_count": 212,
   "id": "d62680ff",
   "metadata": {},
   "outputs": [
    {
     "data": {
      "text/plain": [
       "'Invalid position argument'"
      ]
     },
     "execution_count": 212,
     "metadata": {},
     "output_type": "execute_result"
    }
   ],
   "source": [
    "l.insert_at_pos(10,\"U\")"
   ]
  },
  {
   "cell_type": "code",
   "execution_count": 213,
   "id": "a0e9dd68",
   "metadata": {},
   "outputs": [
    {
     "name": "stdout",
     "output_type": "stream",
     "text": [
      "E  ---> A  ---> 22  ---> I  ---> "
     ]
    }
   ],
   "source": [
    "l.display()"
   ]
  },
  {
   "cell_type": "code",
   "execution_count": 214,
   "id": "c8add416",
   "metadata": {},
   "outputs": [],
   "source": [
    "l.insert_at_pos(2,\"Hello\")"
   ]
  },
  {
   "cell_type": "code",
   "execution_count": 215,
   "id": "1d2fee61",
   "metadata": {},
   "outputs": [
    {
     "name": "stdout",
     "output_type": "stream",
     "text": [
      "E  ---> A  ---> Hello  ---> 22  ---> I  ---> "
     ]
    }
   ],
   "source": [
    "l.display()"
   ]
  },
  {
   "cell_type": "markdown",
   "id": "818c0065",
   "metadata": {},
   "source": [
    " "
   ]
  },
  {
   "cell_type": "markdown",
   "id": "0feda3ab",
   "metadata": {},
   "source": [
    "**To delete an element(node) in the linkedlist**"
   ]
  },
  {
   "cell_type": "code",
   "execution_count": 216,
   "id": "cb45ce7e",
   "metadata": {},
   "outputs": [],
   "source": [
    "def delete(self,ele):\n",
    "    # CASE 1\n",
    "    if self.head is None:\n",
    "        return \"Empty linkedList\"\n",
    "    \n",
    "    #CASE 2\n",
    "    if self.head.data ==ele:\n",
    "        # self.head = self.head.next; not advised beacuse we are loosing control of data\n",
    "        # at the first node of orignal linkedlist.\n",
    "        temp = self.head\n",
    "        self.head = temp.next\n",
    "        temp = None # this ensures deletion of the first node data\n",
    "        return \n",
    "    current = self.head\n",
    "    while current.next is not None:\n",
    "        if current.next.data == ele:\n",
    "            temp = current.next\n",
    "            current.next = temp.next\n",
    "            temp = None\n",
    "            return\n",
    "        current = current.next\n",
    "    return \"Element not found\"\n",
    "linkedList.delete = delete\n",
    "            \n",
    "    "
   ]
  },
  {
   "cell_type": "code",
   "execution_count": 217,
   "id": "b705540a",
   "metadata": {},
   "outputs": [
    {
     "name": "stdout",
     "output_type": "stream",
     "text": [
      "E  ---> A  ---> 22  ---> I  ---> "
     ]
    }
   ],
   "source": [
    "l.delete(\"Hello\")\n",
    "l.display()"
   ]
  },
  {
   "cell_type": "code",
   "execution_count": 218,
   "id": "7c5765be",
   "metadata": {},
   "outputs": [
    {
     "data": {
      "text/plain": [
       "'Element not found'"
      ]
     },
     "execution_count": 218,
     "metadata": {},
     "output_type": "execute_result"
    }
   ],
   "source": [
    "l.delete(\"24\")"
   ]
  },
  {
   "cell_type": "code",
   "execution_count": 219,
   "id": "8977a35f",
   "metadata": {},
   "outputs": [],
   "source": [
    "def search(self,ele):\n",
    "    if self.head == None:\n",
    "        return \"Empty linkedList\"\n",
    "    current = self.head\n",
    "    current_pos = 1\n",
    "    while current is not None:\n",
    "        if current.data == ele:\n",
    "            print(\"Element found at Node:\",current_pos)\n",
    "            return\n",
    "        current = current.next\n",
    "        current_pos +=1\n",
    "    return \"Element not in linkedList\"\n",
    "linkedList.search = search"
   ]
  },
  {
   "cell_type": "code",
   "execution_count": 220,
   "id": "3ca98675",
   "metadata": {},
   "outputs": [
    {
     "name": "stdout",
     "output_type": "stream",
     "text": [
      "Element found at Node: 3\n"
     ]
    }
   ],
   "source": [
    "l.search(22)"
   ]
  },
  {
   "cell_type": "code",
   "execution_count": 221,
   "id": "a00fef21",
   "metadata": {},
   "outputs": [
    {
     "name": "stdout",
     "output_type": "stream",
     "text": [
      "Element found at Node: 4\n"
     ]
    }
   ],
   "source": [
    "l.search(\"I\")"
   ]
  },
  {
   "cell_type": "markdown",
   "id": "6d3e682c",
   "metadata": {},
   "source": [
    "  "
   ]
  },
  {
   "cell_type": "markdown",
   "id": "1dc42343",
   "metadata": {},
   "source": [
    "# Disadvantages of linkedList"
   ]
  },
  {
   "cell_type": "markdown",
   "id": "f283912e",
   "metadata": {},
   "source": [
    "1. For the same amount of data, we need twice the memory compared to that in array/list.For doubly linked list we need thrice of the same.\n",
    "\n",
    "2. Inherently sequential access. We can't jump to any node, unlike array\n",
    "\n",
    "3. Contiguous memory are copied to cache. So, access time of contiguous memory will be less. But linked list being non-contiguous can't be copied to cache, resides in RAM and hence will have higher access time, when accessed by the processor/cpu.\n"
   ]
  }
 ],
 "metadata": {
  "kernelspec": {
   "display_name": "Python 3",
   "language": "python",
   "name": "python3"
  },
  "language_info": {
   "codemirror_mode": {
    "name": "ipython",
    "version": 3
   },
   "file_extension": ".py",
   "mimetype": "text/x-python",
   "name": "python",
   "nbconvert_exporter": "python",
   "pygments_lexer": "ipython3",
   "version": "3.8.8"
  }
 },
 "nbformat": 4,
 "nbformat_minor": 5
}
